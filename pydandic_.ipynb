{
 "cells": [
  {
   "cell_type": "code",
   "execution_count": 37,
   "metadata": {},
   "outputs": [],
   "source": [
    "# Import necessary libraries\n",
    "from pydantic import BaseModel, EmailStr, HttpUrl, Json, field_validator\n",
    "from typing import List, Dict, Optional\n",
    "import re\n",
    "from enum import Enum\n"
   ]
  },
  {
   "cell_type": "code",
   "execution_count": 38,
   "metadata": {},
   "outputs": [
    {
     "name": "stdout",
     "output_type": "stream",
     "text": [
      "name='John Doe' email='john.doe@example.com'\n",
      "{'name': 'John Doe', 'email': 'john.doe@example.com'}\n",
      "John Doe\n",
      "john.doe@example.com\n"
     ]
    }
   ],
   "source": [
    "\n",
    "\n",
    "class UserModel(BaseModel):\n",
    "    name: str\n",
    "    email: str\n",
    "\n",
    "    @field_validator('email')\n",
    "    def validate_email(cls, v):\n",
    "        email_regex = r\"(^[a-zA-Z0-9_.+-]+@[a-zA-Z0-9-]+\\.[a-zA-Z0-9-.]+$)\"\n",
    "        if not re.match(email_regex, v):\n",
    "            raise ValueError('value is not a valid email address')\n",
    "        return v\n",
    "\n",
    "user = UserModel(name=\"John Doe\", email=\"john.doe@example.com\")\n",
    "print(user)\n",
    "print(user.model_dump())\n",
    "print(user.name, user.email,sep='\\n')"
   ]
  },
  {
   "cell_type": "code",
   "execution_count": 39,
   "metadata": {},
   "outputs": [],
   "source": [
    "from pydantic import BaseModel, HttpUrl, Json, ValidationError, validator\n",
    "from typing import Dict, List, Optional\n",
    "from enum import Enum\n",
    "import re\n",
    "\n",
    "# Define an Enum for colors\n",
    "class Color(str, Enum):\n",
    "    RED = \"red\"\n",
    "    GREEN = \"green\"\n",
    "    BLUE = \"blue\"\n",
    "\n",
    "# Define a nested model for Address\n",
    "class Address(BaseModel):\n",
    "    street: str\n",
    "    city: str\n",
    "\n",
    "# Define a model with various types of fields\n",
    "class UserModel(BaseModel):\n",
    "    name: str\n",
    "    age: int\n",
    "    email: str\n",
    "    website: HttpUrl\n",
    "    metadata: Json\n",
    "    color: Color\n",
    "    address: Address\n",
    "    scores: Dict[str, int]\n",
    "    hobbies: List[str]\n",
    "    is_active: Optional[bool] = True\n",
    "\n",
    "    @field_validator('age')\n",
    "    def check_age(cls, v):\n",
    "        if v < 18:\n",
    "            raise ValueError('Age must be 18 or older')\n",
    "        return v\n",
    "    \n",
    "    @field_validator('email')\n",
    "    def validate_email(cls, v):\n",
    "        email_regex = r\"(^[a-zA-Z0-9_.+-]+@[a-zA-Z0-9-]+\\.[a-zA-Z0-9-.]+$)\"\n",
    "        if not re.match(email_regex, v):\n",
    "            raise ValueError('value is not a valid email address')\n",
    "        return v\n",
    "import json\n",
    "try:\n",
    "    user = UserModel(\n",
    "        name=\"John Doe\",\n",
    "        age=25,\n",
    "        email=\"john.doe@example.com\",\n",
    "        website=\"https://www.example.com\",\n",
    "        metadata=json.dumps({\"key\": \"value\"}), \n",
    "        color=Color.BLUE,\n",
    "        address=Address(street=\"123 Main St\", city=\"Anytown\"),\n",
    "        scores={\"math\": 90, \"english\": 85},\n",
    "        hobbies=[\"reading\", \"hiking\"]\n",
    "    )\n",
    "except ValidationError as e:\n",
    "    print(e)\n",
    "\n"
   ]
  },
  {
   "cell_type": "code",
   "execution_count": 40,
   "metadata": {},
   "outputs": [
    {
     "name": "stdout",
     "output_type": "stream",
     "text": [
      "name='John Doe' age=25 email='john.doe@example.com' website=Url('https://www.example.com/') metadata={'key': 'value'} color=<Color.BLUE: 'blue'> address=Address(street='123 Main St', city='Anytown') scores={'math': 90, 'english': 85} hobbies=['reading', 'hiking'] is_active=True\n",
      "John Doe\n",
      "25\n",
      "john.doe@example.com\n",
      "https://www.example.com/\n",
      "{'key': 'value'}\n",
      "Color.BLUE\n",
      "street='123 Main St' city='Anytown'\n",
      "{'math': 90, 'english': 85}\n",
      "['reading', 'hiking']\n",
      "True\n"
     ]
    }
   ],
   "source": [
    "print(user)\n",
    "\n",
    "# Access fields\n",
    "print(user.name)\n",
    "print(user.age)\n",
    "print(user.email)\n",
    "print(user.website)\n",
    "print(user.metadata)\n",
    "print(user.color)\n",
    "print(user.address)\n",
    "print(user.scores)\n",
    "print(user.hobbies)\n",
    "print(user.is_active)\n"
   ]
  },
  {
   "cell_type": "code",
   "execution_count": 41,
   "metadata": {},
   "outputs": [
    {
     "name": "stdout",
     "output_type": "stream",
     "text": [
      "{\n",
      "  \"name\": \"Jane Doe\",\n",
      "  \"age\": 30,\n",
      "  \"email\": \"jane.doe@example.com\",\n",
      "  \"website\": \"https://www.example.com/jane\",\n",
      "  \"metadata\": {\n",
      "    \"key\": \"new_value\"\n",
      "  },\n",
      "  \"color\": \"green\",\n",
      "  \"address\": {\n",
      "    \"street\": \"456 Elm St\",\n",
      "    \"city\": \"Anytown\"\n",
      "  },\n",
      "  \"scores\": {\n",
      "    \"math\": 95,\n",
      "    \"english\": 85\n",
      "  },\n",
      "  \"hobbies\": [\n",
      "    \"reading\",\n",
      "    \"hiking\",\n",
      "    \"cooking\"\n",
      "  ],\n",
      "  \"is_active\": false\n",
      "}\n"
     ]
    }
   ],
   "source": [
    "\n",
    "\n",
    "# Modify fields\n",
    "user.name = \"Jane Doe\"\n",
    "user.age = 30\n",
    "user.email = \"jane.doe@example.com\"\n",
    "user.website = r\"https://www.example.com/jane\"\n",
    "user.metadata = {\"key\": \"new_value\"}\n",
    "user.color = Color.GREEN\n",
    "user.address.street = \"456 Elm St\"\n",
    "user.scores[\"math\"] = 95\n",
    "user.hobbies.append(\"cooking\")\n",
    "user.is_active = False\n",
    "\n",
    "# Print the modified user instance\n",
    "print(user.model_dump_json(indent=2))\n"
   ]
  },
  {
   "cell_type": "code",
   "execution_count": 42,
   "metadata": {},
   "outputs": [
    {
     "name": "stdout",
     "output_type": "stream",
     "text": [
      "{\n",
      "  \"name\": \"John Doe\",\n",
      "  \"age\": 30,\n",
      "  \"email\": \"john.doe@example.com\",\n",
      "  \"addresses\": [\n",
      "    {\n",
      "      \"street\": \"123 Main St\",\n",
      "      \"city\": \"Anytown\",\n",
      "      \"zip_code\": null\n",
      "    },\n",
      "    {\n",
      "      \"street\": \"456 Elm St\",\n",
      "      \"city\": \"Anytown\",\n",
      "      \"zip_code\": \"12345\"\n",
      "    }\n",
      "  ]\n",
      "}\n"
     ]
    },
    {
     "name": "stderr",
     "output_type": "stream",
     "text": [
      "C:\\Users\\jdamodhar\\AppData\\Local\\Temp\\ipykernel_19188\\318601836.py:27: PydanticDeprecatedSince20: Pydantic V1 style `@validator` validators are deprecated. You should migrate to Pydantic V2 style `@field_validator` validators, see the migration guide for more details. Deprecated in Pydantic V2.0 to be removed in V3.0. See Pydantic V2 Migration Guide at https://errors.pydantic.dev/2.6/migration/\n",
      "  @validator('addresses', each_item=True)\n"
     ]
    }
   ],
   "source": [
    "from pydantic import BaseModel, validator\n",
    "from typing import List, Optional\n",
    "\n",
    "class Address(BaseModel):\n",
    "    street: str\n",
    "    city: str\n",
    "    zip_code: Optional[str] = None # Make zip_code truly optional\n",
    "\n",
    "class User(BaseModel):\n",
    "    name: str\n",
    "    age: int\n",
    "    email: str\n",
    "    addresses: List[Address]\n",
    "\n",
    "    @field_validator('email')\n",
    "    def validate_email(cls, v):\n",
    "        if '@' not in v:\n",
    "            raise ValueError('must contain an @ symbol')\n",
    "        return v\n",
    "\n",
    "    @field_validator('age')\n",
    "    def check_age(cls, v):\n",
    "        if v < 18:\n",
    "            raise ValueError('Age must be 18 or older')\n",
    "        return v\n",
    "\n",
    "    @validator('addresses', each_item=True)\n",
    "    def check_address(cls, v):\n",
    "        if not v.street or not v.city:\n",
    "            raise ValueError('Each address must have a street and city')\n",
    "        return v\n",
    "\n",
    "# Example usage\n",
    "user_data = {\n",
    "    \"name\": \"John Doe\",\n",
    "    \"age\": 30,\n",
    "    \"email\": \"john.doe@example.com\",\n",
    "    \"addresses\": [\n",
    "        {\"street\": \"123 Main St\", \"city\": \"Anytown\"},\n",
    "        {\"street\": \"456 Elm St\", \"city\": \"Anytown\", \"zip_code\": \"12345\"}\n",
    "    ]\n",
    "}\n",
    "\n",
    "user = User(**user_data)\n",
    "print(user.model_dump_json(indent=2))\n"
   ]
  },
  {
   "cell_type": "code",
   "execution_count": 43,
   "metadata": {},
   "outputs": [
    {
     "name": "stderr",
     "output_type": "stream",
     "text": [
      "C:\\Users\\jdamodhar\\AppData\\Local\\Temp\\ipykernel_19188\\1917132016.py:15: PydanticDeprecatedSince20: Pydantic V1 style `@validator` validators are deprecated. You should migrate to Pydantic V2 style `@field_validator` validators, see the migration guide for more details. Deprecated in Pydantic V2.0 to be removed in V3.0. See Pydantic V2 Migration Guide at https://errors.pydantic.dev/2.6/migration/\n",
      "  @validator('email')\n",
      "C:\\Users\\jdamodhar\\AppData\\Local\\Temp\\ipykernel_19188\\1917132016.py:21: PydanticDeprecatedSince20: Pydantic V1 style `@validator` validators are deprecated. You should migrate to Pydantic V2 style `@field_validator` validators, see the migration guide for more details. Deprecated in Pydantic V2.0 to be removed in V3.0. See Pydantic V2 Migration Guide at https://errors.pydantic.dev/2.6/migration/\n",
      "  @validator('age')\n",
      "C:\\Users\\jdamodhar\\AppData\\Local\\Temp\\ipykernel_19188\\1917132016.py:27: PydanticDeprecatedSince20: Pydantic V1 style `@validator` validators are deprecated. You should migrate to Pydantic V2 style `@field_validator` validators, see the migration guide for more details. Deprecated in Pydantic V2.0 to be removed in V3.0. See Pydantic V2 Migration Guide at https://errors.pydantic.dev/2.6/migration/\n",
      "  @validator('addresses', each_item=True)\n"
     ]
    },
    {
     "ename": "ValidationError",
     "evalue": "1 validation error for User\naddresses.0.zip_code\n  Field required [type=missing, input_value={'street': '123 Main St', 'city': 'Anytown'}, input_type=dict]\n    For further information visit https://errors.pydantic.dev/2.6/v/missing",
     "output_type": "error",
     "traceback": [
      "\u001b[1;31m---------------------------------------------------------------------------\u001b[0m",
      "\u001b[1;31mValidationError\u001b[0m                           Traceback (most recent call last)",
      "Cell \u001b[1;32mIn[43], line 44\u001b[0m\n\u001b[0;32m     33\u001b[0m \u001b[38;5;66;03m# Example usage\u001b[39;00m\n\u001b[0;32m     34\u001b[0m user_data \u001b[38;5;241m=\u001b[39m {\n\u001b[0;32m     35\u001b[0m     \u001b[38;5;124m\"\u001b[39m\u001b[38;5;124mname\u001b[39m\u001b[38;5;124m\"\u001b[39m: \u001b[38;5;124m\"\u001b[39m\u001b[38;5;124mJohn Doe\u001b[39m\u001b[38;5;124m\"\u001b[39m,\n\u001b[0;32m     36\u001b[0m     \u001b[38;5;124m\"\u001b[39m\u001b[38;5;124mage\u001b[39m\u001b[38;5;124m\"\u001b[39m: \u001b[38;5;241m30\u001b[39m,\n\u001b[1;32m   (...)\u001b[0m\n\u001b[0;32m     41\u001b[0m     ]\n\u001b[0;32m     42\u001b[0m }\n\u001b[1;32m---> 44\u001b[0m user \u001b[38;5;241m=\u001b[39m \u001b[43mUser\u001b[49m\u001b[43m(\u001b[49m\u001b[38;5;241;43m*\u001b[39;49m\u001b[38;5;241;43m*\u001b[39;49m\u001b[43muser_data\u001b[49m\u001b[43m)\u001b[49m\n\u001b[0;32m     45\u001b[0m \u001b[38;5;28mprint\u001b[39m(user)\n",
      "File \u001b[1;32mc:\\Users\\jdamodhar\\AppData\\Local\\Programs\\Python\\Python311\\Lib\\site-packages\\pydantic\\main.py:171\u001b[0m, in \u001b[0;36mBaseModel.__init__\u001b[1;34m(self, **data)\u001b[0m\n\u001b[0;32m    169\u001b[0m \u001b[38;5;66;03m# `__tracebackhide__` tells pytest and some other tools to omit this function from tracebacks\u001b[39;00m\n\u001b[0;32m    170\u001b[0m __tracebackhide__ \u001b[38;5;241m=\u001b[39m \u001b[38;5;28;01mTrue\u001b[39;00m\n\u001b[1;32m--> 171\u001b[0m \u001b[38;5;28;43mself\u001b[39;49m\u001b[38;5;241;43m.\u001b[39;49m\u001b[43m__pydantic_validator__\u001b[49m\u001b[38;5;241;43m.\u001b[39;49m\u001b[43mvalidate_python\u001b[49m\u001b[43m(\u001b[49m\u001b[43mdata\u001b[49m\u001b[43m,\u001b[49m\u001b[43m \u001b[49m\u001b[43mself_instance\u001b[49m\u001b[38;5;241;43m=\u001b[39;49m\u001b[38;5;28;43mself\u001b[39;49m\u001b[43m)\u001b[49m\n",
      "\u001b[1;31mValidationError\u001b[0m: 1 validation error for User\naddresses.0.zip_code\n  Field required [type=missing, input_value={'street': '123 Main St', 'city': 'Anytown'}, input_type=dict]\n    For further information visit https://errors.pydantic.dev/2.6/v/missing"
     ]
    }
   ],
   "source": [
    "from pydantic import BaseModel, validator\n",
    "from typing import List, Optional\n",
    "\n",
    "class Address(BaseModel):\n",
    "    street: str\n",
    "    city: str\n",
    "    zip_code: Optional[str]\n",
    "\n",
    "class User(BaseModel):\n",
    "    name: str\n",
    "    age: int\n",
    "    email: str\n",
    "    addresses: List[Address]\n",
    "\n",
    "    @validator('email')\n",
    "    def validate_email(cls, v):\n",
    "        if '@' not in v:\n",
    "            raise ValueError('must contain an @ symbol')\n",
    "        return v\n",
    "\n",
    "    @validator('age')\n",
    "    def check_age(cls, v):\n",
    "        if v < 18:\n",
    "            raise ValueError('Age must be 18 or older')\n",
    "        return v\n",
    "\n",
    "    @validator('addresses', each_item=True)\n",
    "    def check_address(cls, v):\n",
    "        if not v.street or not v.city:\n",
    "            raise ValueError('Each address must have a street and city')\n",
    "        return v\n",
    "\n",
    "# Example usage\n",
    "user_data = {\n",
    "    \"name\": \"John Doe\",\n",
    "    \"age\": 30,\n",
    "    \"email\": \"john.doe@example.com\",\n",
    "    \"addresses\": [\n",
    "        {\"street\": \"123 Main St\", \"city\": \"Anytown\"},\n",
    "        {\"street\": \"456 Elm St\", \"city\": \"Anytown\", \"zip_code\": \"12345\"}\n",
    "    ]\n",
    "}\n",
    "\n",
    "user = User(**user_data)\n",
    "print(user)\n"
   ]
  }
 ],
 "metadata": {
  "kernelspec": {
   "display_name": "Python 3",
   "language": "python",
   "name": "python3"
  },
  "language_info": {
   "codemirror_mode": {
    "name": "ipython",
    "version": 3
   },
   "file_extension": ".py",
   "mimetype": "text/x-python",
   "name": "python",
   "nbconvert_exporter": "python",
   "pygments_lexer": "ipython3",
   "version": "3.11.6"
  }
 },
 "nbformat": 4,
 "nbformat_minor": 2
}
