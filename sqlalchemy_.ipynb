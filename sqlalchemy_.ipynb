{
 "cells": [
  {
   "cell_type": "code",
   "execution_count": 1,
   "metadata": {},
   "outputs": [
    {
     "data": {
      "text/plain": [
       "__main__.User"
      ]
     },
     "execution_count": 1,
     "metadata": {},
     "output_type": "execute_result"
    }
   ],
   "source": [
    "from sqlalchemy import Column, Integer, String, Date\n",
    "from sqlalchemy.orm import declarative_base\n",
    "from pathlib import Path\n",
    "from fastapi import FastAPI, HTTPException, Depends\n",
    "\n",
    "Base = declarative_base()\n",
    "\n",
    "class User(Base):\n",
    "    __tablename__ = 'users'\n",
    "\n",
    "    id = Column(Integer, primary_key=True)\n",
    "    name = Column(String)\n",
    "    dob = Column(Date)\n",
    "    \n",
    "User"
   ]
  },
  {
   "cell_type": "code",
   "execution_count": 2,
   "metadata": {},
   "outputs": [],
   "source": [
    "# !pip install -U email-validator"
   ]
  },
  {
   "cell_type": "code",
   "execution_count": 3,
   "metadata": {},
   "outputs": [
    {
     "name": "stdout",
     "output_type": "stream",
     "text": [
      "Database URL: sqlite:///c:\\Users\\jdamodhar\\Documents\\Fast_API_SqlAlchemy_Fast_UI\\src\\data/test.db\n",
      "2024-03-09 23:44:28,654 INFO sqlalchemy.engine.Engine BEGIN (implicit)\n",
      "2024-03-09 23:44:28,654 INFO sqlalchemy.engine.Engine PRAGMA main.table_info(\"users\")\n",
      "2024-03-09 23:44:28,654 INFO sqlalchemy.engine.Engine [raw sql] ()\n",
      "2024-03-09 23:44:28,654 INFO sqlalchemy.engine.Engine PRAGMA temp.table_info(\"users\")\n",
      "2024-03-09 23:44:28,669 INFO sqlalchemy.engine.Engine [raw sql] ()\n",
      "2024-03-09 23:44:28,669 INFO sqlalchemy.engine.Engine \n",
      "CREATE TABLE users (\n",
      "\tid INTEGER NOT NULL, \n",
      "\tname VARCHAR, \n",
      "\tdob DATE, \n",
      "\tPRIMARY KEY (id)\n",
      ")\n",
      "\n",
      "\n",
      "2024-03-09 23:44:28,669 INFO sqlalchemy.engine.Engine [no key 0.00115s] ()\n",
      "2024-03-09 23:44:28,687 INFO sqlalchemy.engine.Engine COMMIT\n",
      "2024-03-09 23:44:28,694 INFO sqlalchemy.engine.Engine BEGIN (implicit)\n",
      "2024-03-09 23:44:28,694 INFO sqlalchemy.engine.Engine SELECT users.id AS users_id, users.name AS users_name, users.dob AS users_dob \n",
      "FROM users \n",
      "WHERE users.id = ?\n",
      "2024-03-09 23:44:28,703 INFO sqlalchemy.engine.Engine [generated in 0.00147s] (1,)\n",
      "2024-03-09 23:44:28,703 INFO sqlalchemy.engine.Engine SELECT users.id AS users_id, users.name AS users_name, users.dob AS users_dob \n",
      "FROM users \n",
      "WHERE users.id = ?\n",
      "2024-03-09 23:44:28,703 INFO sqlalchemy.engine.Engine [cached since 0.006227s ago] (2,)\n",
      "2024-03-09 23:44:28,709 INFO sqlalchemy.engine.Engine SELECT users.id AS users_id, users.name AS users_name, users.dob AS users_dob \n",
      "FROM users \n",
      "WHERE users.id = ?\n",
      "2024-03-09 23:44:28,709 INFO sqlalchemy.engine.Engine [cached since 0.009923s ago] (3,)\n",
      "2024-03-09 23:44:28,709 INFO sqlalchemy.engine.Engine SELECT users.id AS users_id, users.name AS users_name, users.dob AS users_dob \n",
      "FROM users \n",
      "WHERE users.id = ?\n",
      "2024-03-09 23:44:28,709 INFO sqlalchemy.engine.Engine [cached since 0.01323s ago] (4,)\n",
      "2024-03-09 23:44:28,709 INFO sqlalchemy.engine.Engine INSERT INTO users (id, name, dob) VALUES (?, ?, ?)\n",
      "2024-03-09 23:44:28,719 INFO sqlalchemy.engine.Engine [generated in 0.00199s] [(1, 'John', '1990-01-01'), (2, 'Jack', '1991-01-01'), (3, 'Jill', '1992-01-01'), (4, 'Jane', '1993-01-01')]\n",
      "2024-03-09 23:44:28,719 INFO sqlalchemy.engine.Engine COMMIT\n"
     ]
    }
   ],
   "source": [
    "\n",
    "\n",
    "\n",
    "from sqlalchemy import create_engine\n",
    "from sqlalchemy.orm import sessionmaker\n",
    "\n",
    "DATABASE_DIR: Path = Path().cwd() / \"src\" / \"data\"\n",
    "DATABASE_URL = f\"sqlite:///{DATABASE_DIR}/test.db\"\n",
    "print(f\"Database URL: {DATABASE_URL}\")\n",
    "\n",
    "# create the engine\n",
    "engine = create_engine(DATABASE_URL, echo=True)\n",
    "\n",
    "# create the tables\n",
    "Base.metadata.create_all(engine)\n",
    "\n",
    "from sqlalchemy.orm import sessionmaker\n",
    "\n",
    "# Assuming you've already created the engine and Base as shown in the previous example\n",
    "\n",
    "# Create a session\n",
    "SessionLocal = sessionmaker(autocommit=False, autoflush=False, bind=engine)\n",
    "session = SessionLocal()\n",
    "from datetime import date\n",
    "users = [\n",
    "    User(id=1, name='John', dob=date(1990, 1, 1)),\n",
    "    User(id=2, name='Jack', dob=date(1991, 1, 1)),\n",
    "    User(id=3, name='Jill', dob=date(1992, 1, 1)),\n",
    "    User(id=4, name='Jane', dob=date(1993, 1, 1)),\n",
    "]\n",
    "with session as session:\n",
    "    for user in users:\n",
    "        db_user = session.get(User, user.id)\n",
    "        if db_user is not None:\n",
    "            continue\n",
    "        session.add(user)\n",
    "    session.commit()\n"
   ]
  },
  {
   "cell_type": "code",
   "execution_count": 4,
   "metadata": {},
   "outputs": [
    {
     "name": "stdout",
     "output_type": "stream",
     "text": [
      "2024-03-09 23:44:29,036 INFO sqlalchemy.engine.Engine BEGIN (implicit)\n",
      "2024-03-09 23:44:29,044 INFO sqlalchemy.engine.Engine SELECT users.id AS users_id, users.name AS users_name, users.dob AS users_dob \n",
      "FROM users\n",
      "2024-03-09 23:44:29,045 INFO sqlalchemy.engine.Engine [generated in 0.00139s] ()\n",
      "[<__main__.User object at 0x0000012CDC142A10>, <__main__.User object at 0x0000012CDD3C5210>, <__main__.User object at 0x0000012CDD3C5750>, <__main__.User object at 0x0000012CDD4F4650>]\n"
     ]
    }
   ],
   "source": [
    "# Query the database for all users\n",
    "users = session.query(User).all()\n",
    "print(users)\n"
   ]
  },
  {
   "cell_type": "code",
   "execution_count": 5,
   "metadata": {},
   "outputs": [
    {
     "name": "stdout",
     "output_type": "stream",
     "text": [
      "ID: 1, Name: John, Date of Birth: 1990-01-01\n",
      "ID: 2, Name: Jack, Date of Birth: 1991-01-01\n",
      "ID: 3, Name: Jill, Date of Birth: 1992-01-01\n",
      "ID: 4, Name: Jane, Date of Birth: 1993-01-01\n",
      "2024-03-09 23:44:29,085 INFO sqlalchemy.engine.Engine ROLLBACK\n"
     ]
    }
   ],
   "source": [
    "# Iterate over the results and print each user\n",
    "for user in users:\n",
    "    print(f\"ID: {user.id}, Name: {user.name}, Date of Birth: {user.dob}\")\n",
    "\n",
    "# Close the session\n",
    "session.close()"
   ]
  },
  {
   "cell_type": "code",
   "execution_count": 4,
   "metadata": {},
   "outputs": [
    {
     "data": {
      "text/plain": [
       "0"
      ]
     },
     "execution_count": 4,
     "metadata": {},
     "output_type": "execute_result"
    }
   ],
   "source": [
    "_ = 4\n",
    "_%2\n"
   ]
  }
 ],
 "metadata": {
  "kernelspec": {
   "display_name": "Python 3",
   "language": "python",
   "name": "python3"
  },
  "language_info": {
   "codemirror_mode": {
    "name": "ipython",
    "version": 3
   },
   "file_extension": ".py",
   "mimetype": "text/x-python",
   "name": "python",
   "nbconvert_exporter": "python",
   "pygments_lexer": "ipython3",
   "version": "3.11.6"
  }
 },
 "nbformat": 4,
 "nbformat_minor": 2
}
